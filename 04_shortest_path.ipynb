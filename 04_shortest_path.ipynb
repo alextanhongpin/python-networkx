{
 "cells": [
  {
   "cell_type": "markdown",
   "id": "encouraging-webster",
   "metadata": {},
   "source": [
    "# Shortest path problem\n",
    "\n",
    "Finding the shortest path between two pairs of nodes using integer programming solver."
   ]
  },
  {
   "cell_type": "code",
   "execution_count": 1,
   "id": "expected-colombia",
   "metadata": {},
   "outputs": [],
   "source": [
    "import matplotlib.pyplot as plt\n",
    "import networkx as nx\n",
    "import numpy as np\n",
    "import pandas as pd\n",
    "\n",
    "%matplotlib inline"
   ]
  },
  {
   "cell_type": "code",
   "execution_count": 2,
   "id": "natural-burning",
   "metadata": {},
   "outputs": [
    {
     "data": {
      "text/html": [
       "<div>\n",
       "<style scoped>\n",
       "    .dataframe tbody tr th:only-of-type {\n",
       "        vertical-align: middle;\n",
       "    }\n",
       "\n",
       "    .dataframe tbody tr th {\n",
       "        vertical-align: top;\n",
       "    }\n",
       "\n",
       "    .dataframe thead th {\n",
       "        text-align: right;\n",
       "    }\n",
       "</style>\n",
       "<table border=\"1\" class=\"dataframe\">\n",
       "  <thead>\n",
       "    <tr style=\"text-align: right;\">\n",
       "      <th></th>\n",
       "      <th>node1</th>\n",
       "      <th>node2</th>\n",
       "      <th>weights</th>\n",
       "    </tr>\n",
       "  </thead>\n",
       "  <tbody>\n",
       "    <tr>\n",
       "      <th>0</th>\n",
       "      <td>s</td>\n",
       "      <td>u</td>\n",
       "      <td>3.0</td>\n",
       "    </tr>\n",
       "    <tr>\n",
       "      <th>1</th>\n",
       "      <td>s</td>\n",
       "      <td>v</td>\n",
       "      <td>2.0</td>\n",
       "    </tr>\n",
       "    <tr>\n",
       "      <th>2</th>\n",
       "      <td>u</td>\n",
       "      <td>v</td>\n",
       "      <td>0.7</td>\n",
       "    </tr>\n",
       "    <tr>\n",
       "      <th>3</th>\n",
       "      <td>u</td>\n",
       "      <td>t</td>\n",
       "      <td>1.0</td>\n",
       "    </tr>\n",
       "    <tr>\n",
       "      <th>4</th>\n",
       "      <td>v</td>\n",
       "      <td>t</td>\n",
       "      <td>7.0</td>\n",
       "    </tr>\n",
       "  </tbody>\n",
       "</table>\n",
       "</div>"
      ],
      "text/plain": [
       "  node1 node2  weights\n",
       "0     s     u      3.0\n",
       "1     s     v      2.0\n",
       "2     u     v      0.7\n",
       "3     u     t      1.0\n",
       "4     v     t      7.0"
      ]
     },
     "execution_count": 2,
     "metadata": {},
     "output_type": "execute_result"
    }
   ],
   "source": [
    "edgelist_df = pd.DataFrame(\n",
    "    {\n",
    "        \"node1\": [\"s\", \"s\", \"u\", \"u\", \"v\"],\n",
    "        \"node2\": [\"u\", \"v\", \"v\", \"t\", \"t\"],\n",
    "        \"weights\": [3, 2, 0.7, 1, 7],\n",
    "    }\n",
    ")\n",
    "edgelist_df"
   ]
  },
  {
   "cell_type": "code",
   "execution_count": 7,
   "id": "chronic-pasta",
   "metadata": {},
   "outputs": [
    {
     "data": {
      "text/plain": [
       "True"
      ]
     },
     "execution_count": 7,
     "metadata": {},
     "output_type": "execute_result"
    }
   ],
   "source": [
    "G = nx.from_pandas_edgelist(\n",
    "    edgelist_df,\n",
    "    source=\"node1\",\n",
    "    target=\"node2\",\n",
    "    create_using=nx.DiGraph(),\n",
    "    edge_attr=[\"weights\"],\n",
    ")\n",
    "nx.is_directed(G)"
   ]
  },
  {
   "cell_type": "code",
   "execution_count": 10,
   "id": "everyday-manhattan",
   "metadata": {},
   "outputs": [
    {
     "data": {
      "text/plain": [
       "OutEdgeDataView([('s', 'u', {'weights': 3.0}), ('s', 'v', {'weights': 2.0}), ('u', 'v', {'weights': 0.7}), ('u', 't', {'weights': 1.0}), ('v', 't', {'weights': 7.0})])"
      ]
     },
     "execution_count": 10,
     "metadata": {},
     "output_type": "execute_result"
    }
   ],
   "source": [
    "G.edges(data=True)"
   ]
  },
  {
   "cell_type": "code",
   "execution_count": 13,
   "id": "occupational-mistress",
   "metadata": {},
   "outputs": [
    {
     "data": {
      "text/plain": [
       "NodeView(('s', 'u', 'v', 't'))"
      ]
     },
     "execution_count": 13,
     "metadata": {},
     "output_type": "execute_result"
    }
   ],
   "source": [
    "G.nodes"
   ]
  },
  {
   "cell_type": "code",
   "execution_count": 50,
   "id": "damaged-czech",
   "metadata": {},
   "outputs": [
    {
     "data": {
      "image/png": "[encoded data removed]",
      "text/plain": [
       "<Figure size 432x288 with 1 Axes>"
      ]
     },
     "metadata": {},
     "output_type": "display_data"
    }
   ],
   "source": [
    "weights = nx.get_edge_attributes(G, \"weights\")\n",
    "nx.draw_networkx_edge_labels(G, pos=nx.kamada_kawai_layout(G), edge_labels=weights)\n",
    "nx.draw_kamada_kawai(G, node_color=\"lightblue\", with_labels=True)"
   ]
  },
  {
   "cell_type": "markdown",
   "id": "victorian-ballot",
   "metadata": {},
   "source": [
    "## Shortest path algorithms for unweighted graphs\n",
    "\n",
    "References:\n",
    "- https://networkx.org/documentation/stable/reference/algorithms/shortest_paths.html#module-networkx.algorithms.shortest_paths.weighted"
   ]
  },
  {
   "cell_type": "code",
   "execution_count": 35,
   "id": "musical-mortgage",
   "metadata": {},
   "outputs": [
    {
     "data": {
      "text/plain": [
       "['s', 'u', 't']"
      ]
     },
     "execution_count": 35,
     "metadata": {},
     "output_type": "execute_result"
    }
   ],
   "source": [
    "nx.shortest_path(G, source=\"s\", target=\"t\")"
   ]
  },
  {
   "cell_type": "code",
   "execution_count": 38,
   "id": "superb-depression",
   "metadata": {},
   "outputs": [
    {
     "data": {
      "text/plain": [
       "[['s', 'u', 't'], ['s', 'v', 't']]"
      ]
     },
     "execution_count": 38,
     "metadata": {},
     "output_type": "execute_result"
    }
   ],
   "source": [
    "list(nx.all_shortest_paths(G, source=\"s\", target=\"t\"))"
   ]
  },
  {
   "cell_type": "code",
   "execution_count": 42,
   "id": "comparative-status",
   "metadata": {},
   "outputs": [
    {
     "data": {
      "text/plain": [
       "2"
      ]
     },
     "execution_count": 42,
     "metadata": {},
     "output_type": "execute_result"
    }
   ],
   "source": [
    "nx.shortest_path_length(G, source=\"s\", target=\"t\")"
   ]
  },
  {
   "cell_type": "code",
   "execution_count": 43,
   "id": "adjusted-laptop",
   "metadata": {},
   "outputs": [
    {
     "data": {
      "text/plain": [
       "0.5833333333333334"
      ]
     },
     "execution_count": 43,
     "metadata": {},
     "output_type": "execute_result"
    }
   ],
   "source": [
    "nx.average_shortest_path_length(G)"
   ]
  },
  {
   "cell_type": "code",
   "execution_count": 41,
   "id": "dated-aquarium",
   "metadata": {},
   "outputs": [
    {
     "data": {
      "text/plain": [
       "True"
      ]
     },
     "execution_count": 41,
     "metadata": {},
     "output_type": "execute_result"
    }
   ],
   "source": [
    "nx.has_path(G, source=\"s\", target=\"t\")"
   ]
  },
  {
   "cell_type": "code",
   "execution_count": 44,
   "id": "western-witch",
   "metadata": {},
   "outputs": [
    {
     "data": {
      "text/plain": [
       "{'s': ['s'], 'u': ['s', 'u'], 'v': ['s', 'v'], 't': ['s', 'u', 't']}"
      ]
     },
     "execution_count": 44,
     "metadata": {},
     "output_type": "execute_result"
    }
   ],
   "source": [
    "nx.single_source_shortest_path(G, \"s\")"
   ]
  },
  {
   "cell_type": "code",
   "execution_count": 45,
   "id": "responsible-hospital",
   "metadata": {},
   "outputs": [
    {
     "data": {
      "text/plain": [
       "{'t': ['t'], 'u': ['u', 't'], 'v': ['v', 't'], 's': ['s', 'u', 't']}"
      ]
     },
     "execution_count": 45,
     "metadata": {},
     "output_type": "execute_result"
    }
   ],
   "source": [
    "nx.single_target_shortest_path(G, \"t\")"
   ]
  },
  {
   "cell_type": "code",
   "execution_count": 47,
   "id": "previous-guyana",
   "metadata": {},
   "outputs": [
    {
     "data": {
      "text/plain": [
       "['s', 'u', 't']"
      ]
     },
     "execution_count": 47,
     "metadata": {},
     "output_type": "execute_result"
    }
   ],
   "source": [
    "nx.bidirectional_shortest_path(G, \"s\", \"t\")"
   ]
  },
  {
   "cell_type": "code",
   "execution_count": 49,
   "id": "generous-guard",
   "metadata": {},
   "outputs": [
    {
     "data": {
      "text/plain": [
       "[('s', {'s': ['s'], 'u': ['s', 'u'], 'v': ['s', 'v'], 't': ['s', 'u', 't']}),\n",
       " ('u', {'u': ['u'], 'v': ['u', 'v'], 't': ['u', 't']}),\n",
       " ('v', {'v': ['v'], 't': ['v', 't']}),\n",
       " ('t', {'t': ['t']})]"
      ]
     },
     "execution_count": 49,
     "metadata": {},
     "output_type": "execute_result"
    }
   ],
   "source": [
    "list(nx.all_pairs_shortest_path(G))"
   ]
  },
  {
   "cell_type": "markdown",
   "id": "worst-ecology",
   "metadata": {},
   "source": [
    "## Shortest path algorithms for weighted graph"
   ]
  },
  {
   "cell_type": "code",
   "execution_count": 56,
   "id": "cheap-trainer",
   "metadata": {},
   "outputs": [
    {
     "data": {
      "text/plain": [
       "['s', 'u', 't']"
      ]
     },
     "execution_count": 56,
     "metadata": {},
     "output_type": "execute_result"
    }
   ],
   "source": [
    "nx.dijkstra_path(G, \"s\", \"t\")"
   ]
  },
  {
   "cell_type": "code",
   "execution_count": 57,
   "id": "palestinian-throat",
   "metadata": {},
   "outputs": [
    {
     "data": {
      "text/plain": [
       "2"
      ]
     },
     "execution_count": 57,
     "metadata": {},
     "output_type": "execute_result"
    }
   ],
   "source": [
    "nx.dijkstra_path_length(G, \"s\", \"t\")"
   ]
  },
  {
   "cell_type": "code",
   "execution_count": 58,
   "id": "amateur-butter",
   "metadata": {},
   "outputs": [
    {
     "data": {
      "text/plain": [
       "({'s': 0, 'u': 1, 'v': 1, 't': 2},\n",
       " {'s': ['s'], 'u': ['s', 'u'], 'v': ['s', 'v'], 't': ['s', 'u', 't']})"
      ]
     },
     "execution_count": 58,
     "metadata": {},
     "output_type": "execute_result"
    }
   ],
   "source": [
    "nx.single_source_dijkstra(G, \"s\")"
   ]
  },
  {
   "cell_type": "code",
   "execution_count": 60,
   "id": "level-container",
   "metadata": {},
   "outputs": [
    {
     "data": {
      "text/plain": [
       "['s', 'u', 't']"
      ]
     },
     "execution_count": 60,
     "metadata": {},
     "output_type": "execute_result"
    }
   ],
   "source": [
    "nx.bellman_ford_path(G, \"s\", \"t\")"
   ]
  },
  {
   "cell_type": "code",
   "execution_count": 67,
   "id": "sized-birmingham",
   "metadata": {},
   "outputs": [
    {
     "data": {
      "text/plain": [
       "['s', 'u', 't']"
      ]
     },
     "execution_count": 67,
     "metadata": {},
     "output_type": "execute_result"
    }
   ],
   "source": [
    "nx.astar_path(G, \"s\", \"t\")"
   ]
  },
  {
   "cell_type": "markdown",
   "id": "satisfactory-answer",
   "metadata": {},
   "source": [
    "## Formulating the problem using integer programming\n",
    "\n",
    "We can use binary decision variables $edge_{i,j}$, representing the edge that goes from node i to node j. If $edge_{i,j} = 1$ the shortest path belongs to the path between i and j, 0 otherwise."
   ]
  },
  {
   "cell_type": "code",
   "execution_count": 68,
   "id": "stone-physiology",
   "metadata": {},
   "outputs": [],
   "source": [
    "from ortools.sat.python import cp_model\n",
    "\n",
    "shortest_path_model = cp_model.CpModel()"
   ]
  },
  {
   "cell_type": "code",
   "execution_count": 69,
   "id": "arctic-moisture",
   "metadata": {},
   "outputs": [
    {
     "name": "stdout",
     "output_type": "stream",
     "text": [
      "Creating the boolean variable edge_s_u representing if we should travel through ('s', 'u')\n",
      "Creating the boolean variable edge_s_v representing if we should travel through ('s', 'v')\n",
      "Creating the boolean variable edge_u_v representing if we should travel through ('u', 'v')\n",
      "Creating the boolean variable edge_u_t representing if we should travel through ('u', 't')\n",
      "Creating the boolean variable edge_v_t representing if we should travel through ('v', 't')\n"
     ]
    }
   ],
   "source": [
    "# Create one integer decision variable for each edge.\n",
    "edge_bool_vars = {}\n",
    "for edge in G.edges:\n",
    "    edge_bool_vars[edge[0], edge[1]] = shortest_path_model.NewBoolVar(\n",
    "        f\"edge_{edge[0]}_{edge[1]}\"\n",
    "    )\n",
    "    print(\n",
    "        \"Creating the boolean variable\",\n",
    "        edge_bool_vars[edge[0], edge[1]],\n",
    "        \"representing if we should travel through\",\n",
    "        (edge[0], edge[1]),\n",
    "    )"
   ]
  },
  {
   "cell_type": "markdown",
   "id": "unlikely-approach",
   "metadata": {},
   "source": [
    "The shortest path (in isolation) will have the following properties:\n",
    "1. starting node has a degree -1\n",
    "2. ending node has a degree +1\n",
    "3. all intermediary nodes have degree 0"
   ]
  },
  {
   "cell_type": "code",
   "execution_count": 70,
   "id": "varied-government",
   "metadata": {},
   "outputs": [],
   "source": [
    "input_node = \"s\"\n",
    "output_node = \"t\""
   ]
  },
  {
   "cell_type": "code",
   "execution_count": 71,
   "id": "competent-antique",
   "metadata": {},
   "outputs": [
    {
     "name": "stdout",
     "output_type": "stream",
     "text": [
      "Adding the constraint on node s\n",
      "The node has 0 in-edges and 2 out-edges\n",
      "(-(edge_s_u + edge_s_v) + 0) == -1\n",
      "\n",
      "Adding the constraint on node u\n",
      "The node has 1 in-edges and 2 out-edges\n",
      "(edge_s_u + -(edge_u_v + edge_u_t)) == 0\n",
      "\n",
      "Adding the constraint on node v\n",
      "The node has 2 in-edges and 1 out-edges\n",
      "((edge_s_v + edge_u_v) + -edge_v_t) == 0\n",
      "\n",
      "Adding the constraint on node t\n",
      "The node has 2 in-edges and 0 out-edges\n",
      "(edge_u_t + edge_v_t) == 1\n",
      "\n"
     ]
    }
   ],
   "source": [
    "# Adding constraint on the nodes\n",
    "for node in G.nodes:\n",
    "    in_edges = G.in_edges(node)\n",
    "    out_edges = G.out_edges(node)\n",
    "    print(\"Adding the constraint on node\", node)\n",
    "    print(\n",
    "        \"The node has {} in-edges and {} out-edges\".format(\n",
    "            len(in_edges), len(out_edges)\n",
    "        )\n",
    "    )\n",
    "    equation_at_this_edge = sum(\n",
    "        edge_bool_vars[edge[0], edge[1]] for edge in in_edges\n",
    "    ) - sum(edge_bool_vars[edge[0], edge[1]] for edge in out_edges)\n",
    "\n",
    "    if node == input_node:\n",
    "        shortest_path_model.Add(equation_at_this_edge == -1)\n",
    "        print(equation_at_this_edge == -1)\n",
    "    elif node == output_node:\n",
    "        shortest_path_model.Add(equation_at_this_edge == +1)\n",
    "        print(equation_at_this_edge == 1)\n",
    "    else:\n",
    "        shortest_path_model.Add(equation_at_this_edge == 0)\n",
    "        print(equation_at_this_edge == 0)\n",
    "    print()"
   ]
  },
  {
   "cell_type": "markdown",
   "id": "strange-yugoslavia",
   "metadata": {},
   "source": [
    "The objective of the shortest path problem is to find the path with minimum cost. This can be written as minimising the costs as follow."
   ]
  },
  {
   "cell_type": "code",
   "execution_count": 75,
   "id": "communist-mystery",
   "metadata": {},
   "outputs": [
    {
     "name": "stdout",
     "output_type": "stream",
     "text": [
      "Objective is to optimise cost\n",
      "(((((30 * edge_s_u) + (20 * edge_s_v)) + (7 * edge_u_v)) + (10 * edge_u_t)) + (70 * edge_v_t))\n"
     ]
    }
   ],
   "source": [
    "# Factor to make everything including costs integer.\n",
    "factor_to_int = 10\n",
    "\n",
    "# The objective is to maximise flow.\n",
    "total_cost = sum(\n",
    "    int(G.get_edge_data(*edge)[\"weights\"] * factor_to_int)\n",
    "    * edge_bool_vars[edge[0], edge[1]]\n",
    "    for edge in G.edges\n",
    ")\n",
    "print(\"Objective is to optimise cost\")\n",
    "print(total_cost)\n",
    "shortest_path_model.Minimize(total_cost)"
   ]
  },
  {
   "cell_type": "code",
   "execution_count": 76,
   "id": "mysterious-utilization",
   "metadata": {},
   "outputs": [
    {
     "name": "stdout",
     "output_type": "stream",
     "text": [
      "Solution 0, time = 0.03 s, objective = 40\n"
     ]
    }
   ],
   "source": [
    "# Solving the problem\n",
    "solver = cp_model.CpSolver()\n",
    "solution_printer = cp_model.ObjectiveSolutionPrinter()\n",
    "status = solver.SolveWithSolutionCallback(shortest_path_model, solution_printer)"
   ]
  },
  {
   "cell_type": "code",
   "execution_count": 78,
   "id": "joined-growing",
   "metadata": {},
   "outputs": [
    {
     "data": {
      "text/plain": [
       "True"
      ]
     },
     "execution_count": 78,
     "metadata": {},
     "output_type": "execute_result"
    }
   ],
   "source": [
    "status == cp_model.OPTIMAL"
   ]
  },
  {
   "cell_type": "code",
   "execution_count": 79,
   "id": "polish-thomas",
   "metadata": {},
   "outputs": [
    {
     "data": {
      "text/plain": [
       "{('s', 'u'): 1, ('s', 'v'): 0, ('u', 'v'): 0, ('u', 't'): 1, ('v', 't'): 0}"
      ]
     },
     "execution_count": 79,
     "metadata": {},
     "output_type": "execute_result"
    }
   ],
   "source": [
    "result_edges = {}\n",
    "for edge in G.edges:\n",
    "    result_edges[edge[0], edge[1]] = solver.Value(edge_bool_vars[edge[0], edge[1]])\n",
    "result_edges"
   ]
  },
  {
   "cell_type": "code",
   "execution_count": 89,
   "id": "chief-filename",
   "metadata": {},
   "outputs": [
    {
     "data": {
      "image/png": "[encoded data removed]",
      "text/plain": [
       "<Figure size 432x288 with 1 Axes>"
      ]
     },
     "metadata": {},
     "output_type": "display_data"
    }
   ],
   "source": [
    "color = [\"g\" if val == 1 else \"r\" for val in result_edges.values()]\n",
    "weights = nx.get_edge_attributes(G, 'weights')\n",
    "nx.draw_networkx_edge_labels(G, pos=nx.kamada_kawai_layout(G), edge_labels=weights)\n",
    "nx.draw_kamada_kawai(\n",
    "    G, edge_color=color, with_labels=True, node_color=\"lightblue\", node_size=1_000\n",
    ")"
   ]
  },
  {
   "cell_type": "code",
   "execution_count": null,
   "id": "accompanied-poison",
   "metadata": {},
   "outputs": [],
   "source": []
  }
 ],
 "metadata": {
  "kernelspec": {
   "display_name": "Python 3 (ipykernel)",
   "language": "python",
   "name": "python3"
  },
  "language_info": {
   "codemirror_mode": {
    "name": "ipython",
    "version": 3
   },
   "file_extension": ".py",
   "mimetype": "text/x-python",
   "name": "python",
   "nbconvert_exporter": "python",
   "pygments_lexer": "ipython3",
   "version": "3.9.16"
  }
 },
 "nbformat": 4,
 "nbformat_minor": 5
}
