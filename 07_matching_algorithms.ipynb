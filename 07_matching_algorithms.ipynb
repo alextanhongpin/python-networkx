{
 "cells": [
  {
   "cell_type": "markdown",
   "id": "middle-request",
   "metadata": {},
   "source": [
    "# Matching algorithms"
   ]
  },
  {
   "cell_type": "code",
   "execution_count": 1,
   "id": "coastal-pendant",
   "metadata": {},
   "outputs": [],
   "source": [
    "import matplotlib.pyplot as plt\n",
    "import networkx as nx\n",
    "import numpy as np\n",
    "import pandas as pd\n",
    "\n",
    "%matplotlib inline"
   ]
  },
  {
   "cell_type": "markdown",
   "id": "corresponding-webmaster",
   "metadata": {},
   "source": [
    "## Unweighted bipartite mapping\n",
    "\n",
    "One such problem is mapping students and dorm rooms. In this problem, students give a list of rooms they are willing to stay in. Each student should be matched to one room."
   ]
  },
  {
   "cell_type": "code",
   "execution_count": 2,
   "id": "sunset-flooring",
   "metadata": {},
   "outputs": [
    {
     "data": {
      "text/html": [
       "<div>\n",
       "<style scoped>\n",
       "    .dataframe tbody tr th:only-of-type {\n",
       "        vertical-align: middle;\n",
       "    }\n",
       "\n",
       "    .dataframe tbody tr th {\n",
       "        vertical-align: top;\n",
       "    }\n",
       "\n",
       "    .dataframe thead th {\n",
       "        text-align: right;\n",
       "    }\n",
       "</style>\n",
       "<table border=\"1\" class=\"dataframe\">\n",
       "  <thead>\n",
       "    <tr style=\"text-align: right;\">\n",
       "      <th></th>\n",
       "      <th>node1</th>\n",
       "      <th>node2</th>\n",
       "    </tr>\n",
       "  </thead>\n",
       "  <tbody>\n",
       "    <tr>\n",
       "      <th>0</th>\n",
       "      <td>A</td>\n",
       "      <td>1</td>\n",
       "    </tr>\n",
       "    <tr>\n",
       "      <th>1</th>\n",
       "      <td>A</td>\n",
       "      <td>2</td>\n",
       "    </tr>\n",
       "    <tr>\n",
       "      <th>2</th>\n",
       "      <td>B</td>\n",
       "      <td>2</td>\n",
       "    </tr>\n",
       "    <tr>\n",
       "      <th>3</th>\n",
       "      <td>B</td>\n",
       "      <td>3</td>\n",
       "    </tr>\n",
       "    <tr>\n",
       "      <th>4</th>\n",
       "      <td>C</td>\n",
       "      <td>3</td>\n",
       "    </tr>\n",
       "    <tr>\n",
       "      <th>5</th>\n",
       "      <td>C</td>\n",
       "      <td>4</td>\n",
       "    </tr>\n",
       "    <tr>\n",
       "      <th>6</th>\n",
       "      <td>D</td>\n",
       "      <td>4</td>\n",
       "    </tr>\n",
       "    <tr>\n",
       "      <th>7</th>\n",
       "      <td>D</td>\n",
       "      <td>1</td>\n",
       "    </tr>\n",
       "  </tbody>\n",
       "</table>\n",
       "</div>"
      ],
      "text/plain": [
       "  node1 node2\n",
       "0     A     1\n",
       "1     A     2\n",
       "2     B     2\n",
       "3     B     3\n",
       "4     C     3\n",
       "5     C     4\n",
       "6     D     4\n",
       "7     D     1"
      ]
     },
     "execution_count": 2,
     "metadata": {},
     "output_type": "execute_result"
    }
   ],
   "source": [
    "edgelist_df = pd.DataFrame({\"node1\": list(\"AABBCCDD\"), \"node2\": list(\"12233441\")})\n",
    "edgelist_df"
   ]
  },
  {
   "cell_type": "code",
   "execution_count": 3,
   "id": "spiritual-white",
   "metadata": {},
   "outputs": [
    {
     "data": {
      "text/plain": [
       "False"
      ]
     },
     "execution_count": 3,
     "metadata": {},
     "output_type": "execute_result"
    }
   ],
   "source": [
    "G = nx.from_pandas_edgelist(edgelist_df, source=\"node1\", target=\"node2\")\n",
    "nx.is_directed(G)"
   ]
  },
  {
   "cell_type": "code",
   "execution_count": 4,
   "id": "foreign-adapter",
   "metadata": {},
   "outputs": [
    {
     "data": {
      "text/plain": [
       "({'A', 'B', 'C', 'D'}, {'1', '2', '3', '4'})"
      ]
     },
     "execution_count": 4,
     "metadata": {},
     "output_type": "execute_result"
    }
   ],
   "source": [
    "left, right = nx.bipartite.sets(G)\n",
    "left, right"
   ]
  },
  {
   "cell_type": "code",
   "execution_count": 5,
   "id": "random-universe",
   "metadata": {},
   "outputs": [],
   "source": [
    "# Update position for node from each group.\n",
    "for i, node in enumerate(sorted(list(left))):\n",
    "    G.add_node(node, pos=(0, i))\n",
    "\n",
    "for i, node in enumerate(sorted(list(right))):\n",
    "    G.add_node(node, pos=(1, i))"
   ]
  },
  {
   "cell_type": "code",
   "execution_count": 6,
   "id": "loving-thriller",
   "metadata": {},
   "outputs": [
    {
     "data": {
      "image/png": "[encoded data removed]",
      "text/plain": [
       "<Figure size 432x288 with 1 Axes>"
      ]
     },
     "metadata": {},
     "output_type": "display_data"
    }
   ],
   "source": [
    "nx.draw(\n",
    "    G,\n",
    "    pos=nx.get_node_attributes(G, \"pos\"),\n",
    "    with_labels=True,\n",
    "    node_color=\"lightblue\",\n",
    "    node_size=1_000,\n",
    ")"
   ]
  },
  {
   "cell_type": "code",
   "execution_count": 7,
   "id": "mounted-principal",
   "metadata": {},
   "outputs": [
    {
     "data": {
      "text/plain": [
       "{'B': '2',\n",
       " 'A': '1',\n",
       " 'C': '3',\n",
       " 'D': '4',\n",
       " '3': 'C',\n",
       " '1': 'A',\n",
       " '4': 'D',\n",
       " '2': 'B'}"
      ]
     },
     "execution_count": 7,
     "metadata": {},
     "output_type": "execute_result"
    }
   ],
   "source": [
    "matches = nx.algorithms.bipartite.matching.hopcroft_karp_matching(\n",
    "    G, top_nodes=list(set(edgelist_df.node1))\n",
    ")\n",
    "matches"
   ]
  },
  {
   "cell_type": "code",
   "execution_count": 8,
   "id": "false-millennium",
   "metadata": {},
   "outputs": [
    {
     "data": {
      "text/plain": [
       "<matplotlib.collections.LineCollection at 0x11103c4f0>"
      ]
     },
     "execution_count": 8,
     "metadata": {},
     "output_type": "execute_result"
    },
    {
     "data": {
      "image/png": "[encoded data removed]",
      "text/plain": [
       "<Figure size 432x288 with 1 Axes>"
      ]
     },
     "metadata": {},
     "output_type": "display_data"
    }
   ],
   "source": [
    "nx.draw_networkx_nodes(\n",
    "    G,\n",
    "    pos=nx.get_node_attributes(G, \"pos\"),\n",
    "    node_color=\"lightblue\",\n",
    "    node_size=1_000,\n",
    ")\n",
    "nx.draw_networkx_labels(\n",
    "    G,\n",
    "    pos=nx.get_node_attributes(G, \"pos\"),\n",
    ")\n",
    "nx.draw_networkx_edges(\n",
    "    G,\n",
    "    pos=nx.get_node_attributes(G, \"pos\"),\n",
    "    edge_color=[\"g\" if edge in matches.items() else \"silver\" for edge in G.edges],\n",
    ")"
   ]
  },
  {
   "cell_type": "markdown",
   "id": "prostate-edward",
   "metadata": {},
   "source": [
    "# Weighted bipartite matching\n",
    "\n",
    "In the previous problem, we tried to find a perfect matching in an unweighted graph. What if every graph has a certain weight attached to it? The weights could be quality index (for student-dorm matching) or valuation in markets etc."
   ]
  },
  {
   "cell_type": "code",
   "execution_count": 9,
   "id": "identical-handling",
   "metadata": {},
   "outputs": [],
   "source": [
    "sellers = [\"A\", \"B\", \"C\"]\n",
    "buyers = [\"x\", \"y\", \"z\"]\n",
    "valuations_for_buyers = [[12, 4, 2], [8, 7, 6], [7, 5, 2]]\n",
    "sellers_price = [0, 0, 0]"
   ]
  },
  {
   "cell_type": "code",
   "execution_count": 10,
   "id": "detected-duplicate",
   "metadata": {},
   "outputs": [
    {
     "data": {
      "image/png": "[encoded data removed]",
      "text/plain": [
       "<Figure size 432x288 with 1 Axes>"
      ]
     },
     "metadata": {},
     "output_type": "display_data"
    }
   ],
   "source": [
    "G = nx.Graph()\n",
    "\n",
    "# Update position for node from each group\n",
    "for i, node in enumerate(sellers):\n",
    "    G.add_node(node, pos=(0, len(sellers) - i))\n",
    "for i, node in enumerate(buyers):\n",
    "    G.add_node(node, pos=(1, len(buyers) - i))\n",
    "\n",
    "# Plot text for buyers.\n",
    "for i, buyer in enumerate(buyers):\n",
    "    plt.text(\n",
    "        1.1, len(buyers) - i, s=valuations_for_buyers[i], horizontalalignment=\"left\"\n",
    "    )\n",
    "\n",
    "# Plot text for sellers.\n",
    "for i, seller in enumerate(sellers):\n",
    "    plt.text(-0.1, len(sellers) - i, s=sellers_price[i], horizontalalignment=\"right\")\n",
    "\n",
    "plt.title(\"Sellers (left) and buyers (right)\")\n",
    "nx.draw(\n",
    "    G, pos=nx.get_node_attributes(G, \"pos\"), with_labels=True, node_color=\"lightblue\"\n",
    ")"
   ]
  },
  {
   "cell_type": "markdown",
   "id": "attended-zimbabwe",
   "metadata": {},
   "source": [
    "What we want to achieve is clearing of market. Clearing happens when all houses are sold to one buyer, and every buyer bought one house. This can be done using the auction algorithm:\n",
    "\n",
    "1. Sellers quote price\n",
    "2. Buyers calculate utility: Net valuation (payoff) = Gross valuation - Price charged by seller\n",
    "3. Buyers select the object that has the highest payoff\n",
    "4. If the market is not cleared, the sellers who have more than one offer (overdetermined) will increase the price by one unit, and the process is repeated."
   ]
  },
  {
   "cell_type": "code",
   "execution_count": 11,
   "id": "understood-mouse",
   "metadata": {},
   "outputs": [],
   "source": [
    "# function to pick supplier with the maximum utility\n",
    "def match_to_maximum_utility(sellers, buyers, valuation, price):\n",
    "    max_utility_sellers = {}\n",
    "    for buyer_index in range(len(buyers)):\n",
    "        max_utility = 0\n",
    "\n",
    "        for seller_index in range(len(sellers)):\n",
    "            if max_utility < valuation[buyer_index][seller_index] - price[seller_index]:\n",
    "                max_utility = valuation[buyer_index][seller_index] - price[seller_index]\n",
    "                max_utility_sellers[buyers[buyer_index]] = [sellers[seller_index]]\n",
    "            elif (\n",
    "                max_utility\n",
    "                == valuation[buyer_index][seller_index] - price[seller_index]\n",
    "            ):\n",
    "                max_utility_sellers[buyers[buyer_index]].append(sellers[seller_index])\n",
    "\n",
    "    return max_utility_sellers"
   ]
  },
  {
   "cell_type": "code",
   "execution_count": 12,
   "id": "vulnerable-dress",
   "metadata": {},
   "outputs": [
    {
     "data": {
      "text/plain": [
       "{'x': ['A'], 'y': ['A'], 'z': ['A']}"
      ]
     },
     "execution_count": 12,
     "metadata": {},
     "output_type": "execute_result"
    }
   ],
   "source": [
    "max_util = match_to_maximum_utility(\n",
    "    sellers, buyers, valuations_for_buyers, sellers_price\n",
    ")\n",
    "max_util"
   ]
  },
  {
   "cell_type": "markdown",
   "id": "confidential-layer",
   "metadata": {},
   "source": [
    "Assuming the initial price set by the seller is zero, buyer x calculates the following utility:\n",
    "\n",
    "- For A: 12 - 0 = 12\n",
    "- For B: 4 - 0 = 4\n",
    "- For C: 2 - 0 = 2\n",
    "\n",
    "As the utility of A is the highest, x will choose A. Similarly y and z will also choose A"
   ]
  },
  {
   "cell_type": "code",
   "execution_count": 13,
   "id": "unknown-following",
   "metadata": {},
   "outputs": [],
   "source": [
    "def plot_max_utility_graph(\n",
    "    sellers, buyers, valuations_for_buyers, sellers_price, max_util\n",
    "):\n",
    "    G = nx.Graph()\n",
    "    pos = {}\n",
    "\n",
    "    # Update position for node from each group\n",
    "    for i, node in enumerate(sellers):\n",
    "        G.add_node(node, pos=(0, len(sellers) - i))\n",
    "    for i, node in enumerate(buyers):\n",
    "        G.add_node(node, pos=(1, len(buyers) - i))\n",
    "\n",
    "    # Make edges\n",
    "    for key, values in max_util.items():\n",
    "        for value in values:\n",
    "            G.add_edge(key, value)\n",
    "\n",
    "    # Plot text for buyers.\n",
    "    for i, buyer in enumerate(buyers):\n",
    "        plt.text(\n",
    "            1.1, len(buyers) - i, s=valuations_for_buyers[i], horizontalalignment=\"left\"\n",
    "        )\n",
    "\n",
    "    # Plot text for sellers.\n",
    "    for i, seller in enumerate(sellers):\n",
    "        plt.text(\n",
    "            -0.1, len(sellers) - i, s=sellers_price[i], horizontalalignment=\"right\"\n",
    "        )\n",
    "\n",
    "    nx.draw(\n",
    "        G,\n",
    "        pos=nx.get_node_attributes(G, \"pos\"),\n",
    "        with_labels=True,\n",
    "        node_color=\"lightblue\",\n",
    "    )\n",
    "    plt.show()"
   ]
  },
  {
   "cell_type": "code",
   "execution_count": 14,
   "id": "secret-performer",
   "metadata": {},
   "outputs": [
    {
     "data": {
      "image/png": "[encoded data removed]",
      "text/plain": [
       "<Figure size 432x288 with 1 Axes>"
      ]
     },
     "metadata": {},
     "output_type": "display_data"
    }
   ],
   "source": [
    "plt.title(\"A is overdetermined\")\n",
    "plot_max_utility_graph(sellers, buyers, valuations_for_buyers, sellers_price, max_util)"
   ]
  },
  {
   "cell_type": "markdown",
   "id": "academic-avenue",
   "metadata": {},
   "source": [
    "For the overdetermined edge A, we increase the price by one unit"
   ]
  },
  {
   "cell_type": "code",
   "execution_count": 15,
   "id": "ecological-belize",
   "metadata": {},
   "outputs": [],
   "source": [
    "from collections import Counter\n",
    "\n",
    "\n",
    "def get_overdetermined_edge_and_increase_price(sellers, sellers_price, max_util):\n",
    "    counts = dict(Counter(sum(max_util.values(), [])))\n",
    "    over_determined_list = []\n",
    "\n",
    "    for key, value in counts.items():\n",
    "        if value > 1:\n",
    "            over_determined_list.append(key)\n",
    "            sellers_price[sellers.index(key)] += 1\n",
    "    print(\n",
    "        \"Nodes\",\n",
    "        over_determined_list,\n",
    "        \"are over determined. Added 1 to the prize for the suppliers\",\n",
    "    )\n",
    "    return counts"
   ]
  },
  {
   "cell_type": "code",
   "execution_count": 16,
   "id": "disturbed-sentence",
   "metadata": {},
   "outputs": [
    {
     "name": "stdout",
     "output_type": "stream",
     "text": [
      "Nodes ['A'] are over determined. Added 1 to the prize for the suppliers\n"
     ]
    },
    {
     "data": {
      "text/plain": [
       "{'A': 3}"
      ]
     },
     "execution_count": 16,
     "metadata": {},
     "output_type": "execute_result"
    }
   ],
   "source": [
    "get_overdetermined_edge_and_increase_price(sellers, sellers_price, max_util)"
   ]
  },
  {
   "cell_type": "markdown",
   "id": "deadly-israel",
   "metadata": {},
   "source": [
    "We will continue this process until the market is cleared"
   ]
  },
  {
   "cell_type": "code",
   "execution_count": 18,
   "id": "informational-celtic",
   "metadata": {},
   "outputs": [
    {
     "data": {
      "image/png": "[encoded data removed]",
      "text/plain": [
       "<Figure size 432x288 with 1 Axes>"
      ]
     },
     "metadata": {},
     "output_type": "display_data"
    },
    {
     "name": "stdout",
     "output_type": "stream",
     "text": [
      "Nodes ['A'] are over determined. Added 1 to the prize for the suppliers\n"
     ]
    },
    {
     "data": {
      "image/png": "[encoded data removed]",
      "text/plain": [
       "<Figure size 432x288 with 1 Axes>"
      ]
     },
     "metadata": {},
     "output_type": "display_data"
    },
    {
     "name": "stdout",
     "output_type": "stream",
     "text": [
      "Nodes ['A', 'B'] are over determined. Added 1 to the prize for the suppliers\n"
     ]
    },
    {
     "data": {
      "image/png": "[encoded data removed]",
      "text/plain": [
       "<Figure size 432x288 with 1 Axes>"
      ]
     },
     "metadata": {},
     "output_type": "display_data"
    },
    {
     "name": "stdout",
     "output_type": "stream",
     "text": [
      "Nodes ['A', 'B'] are over determined. Added 1 to the prize for the suppliers\n"
     ]
    }
   ],
   "source": [
    "no_of_sellers_selected = 0\n",
    "\n",
    "while no_of_sellers_selected != len(sellers):\n",
    "    max_util = match_to_maximum_utility(\n",
    "        sellers, buyers, valuations_for_buyers, sellers_price\n",
    "    )\n",
    "    plot_max_utility_graph(\n",
    "        sellers, buyers, valuations_for_buyers, sellers_price, max_util\n",
    "    )\n",
    "    counts = get_overdetermined_edge_and_increase_price(\n",
    "        sellers, sellers_price, max_util\n",
    "    )\n",
    "    no_of_sellers_selected = len(counts)"
   ]
  },
  {
   "cell_type": "markdown",
   "id": "essential-shopper",
   "metadata": {},
   "source": [
    "We can see that the costs (A:3, B:1, C: 0), the market can be cleared with buyer x choosing A, y choosing C and z choosing B. This is the maximum weight perfect matching."
   ]
  },
  {
   "cell_type": "code",
   "execution_count": 41,
   "id": "juvenile-privacy",
   "metadata": {},
   "outputs": [],
   "source": [
    "from ortools.sat.python import cp_model\n",
    "\n",
    "model = cp_model.CpModel()"
   ]
  },
  {
   "cell_type": "code",
   "execution_count": 42,
   "id": "expensive-subscriber",
   "metadata": {},
   "outputs": [
    {
     "name": "stdout",
     "output_type": "stream",
     "text": [
      "Add buyer seller buyer_x_A\n",
      "Add buyer seller buyer_x_B\n",
      "Add buyer seller buyer_x_C\n",
      "Add buyer seller buyer_y_A\n",
      "Add buyer seller buyer_y_B\n",
      "Add buyer seller buyer_y_C\n",
      "Add buyer seller buyer_z_A\n",
      "Add buyer seller buyer_z_B\n",
      "Add buyer seller buyer_z_C\n"
     ]
    },
    {
     "data": {
      "text/plain": [
       "<ortools.sat.python.cp_model.Constraint at 0x1128650d0>"
      ]
     },
     "execution_count": 42,
     "metadata": {},
     "output_type": "execute_result"
    }
   ],
   "source": [
    "buyer_bool_vars = {}\n",
    "for bi in range(len(buyers)):\n",
    "    buyer = buyers[bi]\n",
    "    for si in range(len(sellers)):\n",
    "        seller = sellers[si]\n",
    "        buyer_bool_vars[bi, si] = model.NewBoolVar(\"buyer_%s_%s\" % (buyer, seller))\n",
    "        print(\"Add buyer seller\", buyer_bool_vars[bi, si])\n",
    "\n",
    "# Add constraint - each buyer can only have one seller.\n",
    "for bi in range(len(buyers)):\n",
    "    model.Add(sum(buyer_bool_vars[bi, si] for si in range(len(sellers))) == 1)\n",
    "\n",
    "# Add constraint - each seller can only have one buyer\n",
    "for si in range(len(sellers)):\n",
    "    model.Add(sum(buyer_bool_vars[bi, si] for bi in range(len(buyers))) == 1)\n",
    "\n",
    "# Costs to optimize.\n",
    "costs = model.NewIntVar(0, 1000, \"costs\")\n",
    "model.Add(\n",
    "    sum(\n",
    "        valuations_for_buyers[bi][si] * buyer_bool_vars[bi, si]\n",
    "        for bi in range(len(buyers))\n",
    "        for si in range(len(sellers))\n",
    "    )\n",
    "    == costs\n",
    ")"
   ]
  },
  {
   "cell_type": "code",
   "execution_count": 43,
   "id": "protecting-envelope",
   "metadata": {},
   "outputs": [],
   "source": [
    "# Objective is to maximize cost\n",
    "model.Maximize(costs)"
   ]
  },
  {
   "cell_type": "code",
   "execution_count": 44,
   "id": "arranged-artwork",
   "metadata": {},
   "outputs": [
    {
     "name": "stdout",
     "output_type": "stream",
     "text": [
      "Solution 0, time = 0.00 s, objective = 16\n",
      "Solution 1, time = 0.00 s, objective = 17\n",
      "Solution 2, time = 0.00 s, objective = 23\n"
     ]
    }
   ],
   "source": [
    "# Solving the problem\n",
    "solver = cp_model.CpSolver()\n",
    "solution_printer = cp_model.ObjectiveSolutionPrinter()\n",
    "status = solver.SolveWithSolutionCallback(model, solution_printer)"
   ]
  },
  {
   "cell_type": "code",
   "execution_count": 45,
   "id": "cross-layer",
   "metadata": {},
   "outputs": [
    {
     "data": {
      "text/plain": [
       "True"
      ]
     },
     "execution_count": 45,
     "metadata": {},
     "output_type": "execute_result"
    }
   ],
   "source": [
    "status == cp_model.OPTIMAL"
   ]
  },
  {
   "cell_type": "code",
   "execution_count": 46,
   "id": "genetic-content",
   "metadata": {},
   "outputs": [
    {
     "name": "stdout",
     "output_type": "stream",
     "text": [
      "x A 1\n",
      "x B 0\n",
      "x C 0\n",
      "y A 0\n",
      "y B 0\n",
      "y C 1\n",
      "z A 0\n",
      "z B 1\n",
      "z C 0\n"
     ]
    },
    {
     "data": {
      "text/plain": [
       "23"
      ]
     },
     "execution_count": 46,
     "metadata": {},
     "output_type": "execute_result"
    }
   ],
   "source": [
    "for bi in range(len(buyers)):\n",
    "    for si in range(len(sellers)):\n",
    "        print(buyers[bi], sellers[si], solver.Value(buyer_bool_vars[bi, si]))\n",
    "solver.Value(costs)"
   ]
  }
 ],
 "metadata": {
  "kernelspec": {
   "display_name": "Python 3 (ipykernel)",
   "language": "python",
   "name": "python3"
  },
  "language_info": {
   "codemirror_mode": {
    "name": "ipython",
    "version": 3
   },
   "file_extension": ".py",
   "mimetype": "text/x-python",
   "name": "python",
   "nbconvert_exporter": "python",
   "pygments_lexer": "ipython3",
   "version": "3.9.16"
  }
 },
 "nbformat": 4,
 "nbformat_minor": 5
}
