{
 "cells": [
  {
   "cell_type": "markdown",
   "id": "interested-siemens",
   "metadata": {},
   "source": [
    "# Flow maximization problems\n",
    "\n",
    "A _directed graph_ has the capacities on all the edges and our job is to find the maximum amount of flow that can happen from one node (starting node) to another node (outflow node). There are two types of flow maximization problems:\n",
    "\n",
    "1. max flow: what is the maximum flow that can be sent from source to output without exceeding capacity\n",
    "2. min-cost flow: we have the cost along the capacities on each edge. We want to find the minimum cost path of sending `f` units of flow from source to outflow\n",
    "\n",
    "\n",
    "Both can be solved using integer programming."
   ]
  },
  {
   "cell_type": "code",
   "execution_count": 1,
   "id": "affected-pepper",
   "metadata": {},
   "outputs": [],
   "source": [
    "import matplotlib.pyplot as plt\n",
    "import networkx as nx\n",
    "import numpy as np\n",
    "import pandas as pd\n",
    "\n",
    "%matplotlib inline"
   ]
  },
  {
   "cell_type": "markdown",
   "id": "designing-arlington",
   "metadata": {},
   "source": [
    "## Maximum Flow Problem"
   ]
  },
  {
   "cell_type": "code",
   "execution_count": 2,
   "id": "raised-classroom",
   "metadata": {},
   "outputs": [
    {
     "data": {
      "text/html": [
       "<div>\n",
       "<style scoped>\n",
       "    .dataframe tbody tr th:only-of-type {\n",
       "        vertical-align: middle;\n",
       "    }\n",
       "\n",
       "    .dataframe tbody tr th {\n",
       "        vertical-align: top;\n",
       "    }\n",
       "\n",
       "    .dataframe thead th {\n",
       "        text-align: right;\n",
       "    }\n",
       "</style>\n",
       "<table border=\"1\" class=\"dataframe\">\n",
       "  <thead>\n",
       "    <tr style=\"text-align: right;\">\n",
       "      <th></th>\n",
       "      <th>node1</th>\n",
       "      <th>node2</th>\n",
       "      <th>weights</th>\n",
       "    </tr>\n",
       "  </thead>\n",
       "  <tbody>\n",
       "    <tr>\n",
       "      <th>0</th>\n",
       "      <td>s</td>\n",
       "      <td>u</td>\n",
       "      <td>20</td>\n",
       "    </tr>\n",
       "    <tr>\n",
       "      <th>1</th>\n",
       "      <td>s</td>\n",
       "      <td>v</td>\n",
       "      <td>10</td>\n",
       "    </tr>\n",
       "    <tr>\n",
       "      <th>2</th>\n",
       "      <td>u</td>\n",
       "      <td>v</td>\n",
       "      <td>30</td>\n",
       "    </tr>\n",
       "    <tr>\n",
       "      <th>3</th>\n",
       "      <td>u</td>\n",
       "      <td>t</td>\n",
       "      <td>10</td>\n",
       "    </tr>\n",
       "    <tr>\n",
       "      <th>4</th>\n",
       "      <td>v</td>\n",
       "      <td>t</td>\n",
       "      <td>20</td>\n",
       "    </tr>\n",
       "  </tbody>\n",
       "</table>\n",
       "</div>"
      ],
      "text/plain": [
       "  node1 node2  weights\n",
       "0     s     u       20\n",
       "1     s     v       10\n",
       "2     u     v       30\n",
       "3     u     t       10\n",
       "4     v     t       20"
      ]
     },
     "execution_count": 2,
     "metadata": {},
     "output_type": "execute_result"
    }
   ],
   "source": [
    "edgelist_df = pd.DataFrame(\n",
    "    {\"node1\": list(\"ssuuv\"), \"node2\": list(\"uvvtt\"), \"weights\": [20, 10, 30, 10, 20]}\n",
    ")\n",
    "edgelist_df"
   ]
  },
  {
   "cell_type": "code",
   "execution_count": 8,
   "id": "junior-hopkins",
   "metadata": {},
   "outputs": [
    {
     "data": {
      "image/png": "[encoded data removed]",
      "text/plain": [
       "<Figure size 432x288 with 1 Axes>"
      ]
     },
     "metadata": {},
     "output_type": "display_data"
    }
   ],
   "source": [
    "G = nx.from_pandas_edgelist(\n",
    "    edgelist_df,\n",
    "    source=\"node1\",\n",
    "    target=\"node2\",\n",
    "    edge_attr=[\"weights\"],\n",
    "    create_using=nx.DiGraph(),\n",
    ")\n",
    "nx.is_directed(G)\n",
    "\n",
    "weights = nx.get_edge_attributes(G, \"weights\")\n",
    "pos = nx.spring_layout(G)\n",
    "nx.draw_networkx_edge_labels(G, pos=pos, edge_labels=weights)\n",
    "nx.draw(G, pos=pos, with_labels=True, node_color=\"lightblue\")"
   ]
  },
  {
   "cell_type": "markdown",
   "id": "disabled-cotton",
   "metadata": {},
   "source": [
    "Goal: We want to find the maximum flow between s and t. This can be formulated as an integer programming problem with _decision variable_\n",
    "1. integer variable $edge_{i,j}$ representing the amount of flow in $edge_{i,j}$\n",
    "2. integer variable $f$ representing the maximum flow "
   ]
  },
  {
   "cell_type": "code",
   "execution_count": 9,
   "id": "light-breakfast",
   "metadata": {},
   "outputs": [],
   "source": [
    "from ortools.sat.python import cp_model\n",
    "\n",
    "max_flow_model = cp_model.CpModel()"
   ]
  },
  {
   "cell_type": "code",
   "execution_count": 15,
   "id": "fallen-particle",
   "metadata": {},
   "outputs": [
    {
     "name": "stdout",
     "output_type": "stream",
     "text": [
      "Creating the integer variable edge_s_u representing the amount to flow in edge ('s', 'u')\n",
      "Creating the integer variable edge_s_v representing the amount to flow in edge ('s', 'v')\n",
      "Creating the integer variable edge_u_v representing the amount to flow in edge ('u', 'v')\n",
      "Creating the integer variable edge_u_t representing the amount to flow in edge ('u', 't')\n",
      "Creating the integer variable edge_v_t representing the amount to flow in edge ('v', 't')\n"
     ]
    }
   ],
   "source": [
    "# Creating one integer decision variables for each edge.\n",
    "edge_int_vars = {}\n",
    "for edge in G.edges:\n",
    "    edge_int_vars[edge[0], edge[1]] = max_flow_model.NewIntVar(\n",
    "        0, 100, f\"edge_{edge[0]}_{edge[1]}\"\n",
    "    )\n",
    "    print(\n",
    "        \"Creating the integer variable\",\n",
    "        edge_int_vars[edge[0], edge[1]],\n",
    "        \"representing the amount to flow in edge\",\n",
    "        (edge[0], edge[1]),\n",
    "    )"
   ]
  },
  {
   "cell_type": "markdown",
   "id": "opened-invasion",
   "metadata": {},
   "source": [
    "**Constraints**\n",
    "\n",
    "The first set of constraints are flow constraints:\n",
    "\n",
    "1. At the input node, the net flow should be -f \n",
    "2. At the output node, the net flow should be +f\n",
    "3. The net flow in all other nodes should be 0"
   ]
  },
  {
   "cell_type": "code",
   "execution_count": 16,
   "id": "educational-regulation",
   "metadata": {},
   "outputs": [],
   "source": [
    "input_node = \"s\"\n",
    "output_node = \"t\""
   ]
  },
  {
   "cell_type": "code",
   "execution_count": 19,
   "id": "dressed-chicago",
   "metadata": {},
   "outputs": [
    {
     "name": "stdout",
     "output_type": "stream",
     "text": [
      "Adding the constraint on node s\n",
      "((-(edge_s_u + edge_s_v) + 0) + (1 * flow)) == 0\n",
      "\n",
      "Adding the constraint on node u\n",
      "(edge_s_u + -(edge_u_v + edge_u_t)) == 0\n",
      "\n",
      "Adding the constraint on node v\n",
      "((edge_s_v + edge_u_v) + -edge_v_t) == 0\n",
      "\n",
      "Adding the constraint on node t\n",
      "((edge_u_t + edge_v_t) + -flow) == 0\n",
      "\n"
     ]
    }
   ],
   "source": [
    "# Adding constraints on the nodes\n",
    "\n",
    "# Initializing flow - this will be maximized later.\n",
    "flow = max_flow_model.NewIntVar(0, 100, \"flow\")\n",
    "for node in G.nodes:\n",
    "    in_edges = G.in_edges(node)\n",
    "    out_edges = G.out_edges(node)\n",
    "    print(\"Adding the constraint on node\", node)\n",
    "\n",
    "    equation_at_this_edge = sum(\n",
    "        edge_int_vars[edge[0], edge[1]] for edge in in_edges\n",
    "    ) - sum(edge_int_vars[edge[0], edge[1]] for edge in out_edges)\n",
    "\n",
    "    if node == input_node:\n",
    "        max_flow_model.Add(equation_at_this_edge == -flow)\n",
    "        print(equation_at_this_edge == -flow)\n",
    "    elif node == output_node:\n",
    "        max_flow_model.Add(equation_at_this_edge == flow)\n",
    "        print(equation_at_this_edge == flow)\n",
    "    else:\n",
    "        max_flow_model.Add(equation_at_this_edge == 0)\n",
    "        print(equation_at_this_edge == 0)\n",
    "    print()"
   ]
  },
  {
   "cell_type": "markdown",
   "id": "fleet-haiti",
   "metadata": {},
   "source": [
    "Another set of constraints are the capacity restrictions on every edge."
   ]
  },
  {
   "cell_type": "code",
   "execution_count": 25,
   "id": "indoor-incentive",
   "metadata": {},
   "outputs": [
    {
     "name": "stdout",
     "output_type": "stream",
     "text": [
      "Adding constraint on edge ('s', 'u')\n",
      "edge_s_u <= 20\n",
      "\n",
      "Adding constraint on edge ('s', 'v')\n",
      "edge_s_v <= 10\n",
      "\n",
      "Adding constraint on edge ('u', 'v')\n",
      "edge_u_v <= 30\n",
      "\n",
      "Adding constraint on edge ('u', 't')\n",
      "edge_u_t <= 10\n",
      "\n",
      "Adding constraint on edge ('v', 't')\n",
      "edge_v_t <= 20\n",
      "\n"
     ]
    }
   ],
   "source": [
    "# Adding constraints on the edges\n",
    "for edge in G.edges:\n",
    "    print(\"Adding constraint on edge\", edge)\n",
    "    max_flow_in_edge = G.get_edge_data(*edge)[\"weights\"]\n",
    "    max_flow_model.Add(edge_int_vars[edge[0], edge[1]] <= max_flow_in_edge)\n",
    "    print(edge_int_vars[edge[0], edge[1]] <= max_flow_in_edge)\n",
    "    print()"
   ]
  },
  {
   "cell_type": "markdown",
   "id": "ultimate-lafayette",
   "metadata": {},
   "source": [
    "**Objective**\n",
    "\n",
    "The objective is to maximize flow"
   ]
  },
  {
   "cell_type": "code",
   "execution_count": 27,
   "id": "silver-building",
   "metadata": {},
   "outputs": [],
   "source": [
    "max_flow_model.Maximize(flow)"
   ]
  },
  {
   "cell_type": "code",
   "execution_count": 28,
   "id": "cognitive-premium",
   "metadata": {},
   "outputs": [
    {
     "name": "stdout",
     "output_type": "stream",
     "text": [
      "Solution 0, time = 0.01 s, objective = 30\n"
     ]
    }
   ],
   "source": [
    "# Solving the problem\n",
    "solver = cp_model.CpSolver()\n",
    "solution_printer = cp_model.ObjectiveSolutionPrinter()\n",
    "status = solver.SolveWithSolutionCallback(max_flow_model, solution_printer)"
   ]
  },
  {
   "cell_type": "code",
   "execution_count": 29,
   "id": "fossil-backing",
   "metadata": {},
   "outputs": [
    {
     "data": {
      "text/plain": [
       "True"
      ]
     },
     "execution_count": 29,
     "metadata": {},
     "output_type": "execute_result"
    }
   ],
   "source": [
    "status == cp_model.OPTIMAL"
   ]
  },
  {
   "cell_type": "code",
   "execution_count": 30,
   "id": "intermediate-projection",
   "metadata": {},
   "outputs": [
    {
     "data": {
      "text/plain": [
       "{('s', 'u'): 20,\n",
       " ('s', 'v'): 10,\n",
       " ('u', 'v'): 10,\n",
       " ('u', 't'): 10,\n",
       " ('v', 't'): 20}"
      ]
     },
     "execution_count": 30,
     "metadata": {},
     "output_type": "execute_result"
    }
   ],
   "source": [
    "result_edges = {}\n",
    "for edge in G.edges:\n",
    "    result_edges[edge[0], edge[1]] = solver.Value(edge_int_vars[edge[0], edge[1]])\n",
    "result_edges"
   ]
  },
  {
   "cell_type": "code",
   "execution_count": 36,
   "id": "environmental-friendly",
   "metadata": {},
   "outputs": [
    {
     "data": {
      "image/png": "[encoded data removed]",
      "text/plain": [
       "<Figure size 432x288 with 1 Axes>"
      ]
     },
     "metadata": {},
     "output_type": "display_data"
    }
   ],
   "source": [
    "pos = nx.spring_layout(G)\n",
    "props = dict(node_color=\"lightblue\", node_size=200)\n",
    "nx.draw_networkx_edge_labels(G, pos=pos, edge_labels=result_edges)\n",
    "nx.draw(G, pos=pos, with_labels=True, **props)"
   ]
  },
  {
   "cell_type": "markdown",
   "id": "private-headset",
   "metadata": {},
   "source": [
    "# Min cost flow problem\n",
    "\n",
    "We want to find the minimum cost to transfer a fixed amount of flow from one edge to another. The costs are given in the table below. The costs are also displayed in the network below."
   ]
  },
  {
   "cell_type": "code",
   "execution_count": 37,
   "id": "compatible-packaging",
   "metadata": {},
   "outputs": [
    {
     "data": {
      "text/html": [
       "<div>\n",
       "<style scoped>\n",
       "    .dataframe tbody tr th:only-of-type {\n",
       "        vertical-align: middle;\n",
       "    }\n",
       "\n",
       "    .dataframe tbody tr th {\n",
       "        vertical-align: top;\n",
       "    }\n",
       "\n",
       "    .dataframe thead th {\n",
       "        text-align: right;\n",
       "    }\n",
       "</style>\n",
       "<table border=\"1\" class=\"dataframe\">\n",
       "  <thead>\n",
       "    <tr style=\"text-align: right;\">\n",
       "      <th></th>\n",
       "      <th>node1</th>\n",
       "      <th>node2</th>\n",
       "      <th>weights</th>\n",
       "      <th>costs</th>\n",
       "    </tr>\n",
       "  </thead>\n",
       "  <tbody>\n",
       "    <tr>\n",
       "      <th>0</th>\n",
       "      <td>s</td>\n",
       "      <td>u</td>\n",
       "      <td>20</td>\n",
       "      <td>3.0</td>\n",
       "    </tr>\n",
       "    <tr>\n",
       "      <th>1</th>\n",
       "      <td>s</td>\n",
       "      <td>v</td>\n",
       "      <td>10</td>\n",
       "      <td>2.0</td>\n",
       "    </tr>\n",
       "    <tr>\n",
       "      <th>2</th>\n",
       "      <td>u</td>\n",
       "      <td>v</td>\n",
       "      <td>30</td>\n",
       "      <td>0.7</td>\n",
       "    </tr>\n",
       "    <tr>\n",
       "      <th>3</th>\n",
       "      <td>u</td>\n",
       "      <td>t</td>\n",
       "      <td>10</td>\n",
       "      <td>1.0</td>\n",
       "    </tr>\n",
       "    <tr>\n",
       "      <th>4</th>\n",
       "      <td>v</td>\n",
       "      <td>t</td>\n",
       "      <td>20</td>\n",
       "      <td>7.0</td>\n",
       "    </tr>\n",
       "  </tbody>\n",
       "</table>\n",
       "</div>"
      ],
      "text/plain": [
       "  node1 node2  weights  costs\n",
       "0     s     u       20    3.0\n",
       "1     s     v       10    2.0\n",
       "2     u     v       30    0.7\n",
       "3     u     t       10    1.0\n",
       "4     v     t       20    7.0"
      ]
     },
     "execution_count": 37,
     "metadata": {},
     "output_type": "execute_result"
    }
   ],
   "source": [
    "edgelist_df = pd.DataFrame(\n",
    "    {\n",
    "        \"node1\": list(\"ssuuv\"),\n",
    "        \"node2\": list(\"uvvtt\"),\n",
    "        \"weights\": [20, 10, 30, 10, 20],\n",
    "        \"costs\": [3, 2, 0.7, 1, 7],\n",
    "    }\n",
    ")\n",
    "edgelist_df"
   ]
  },
  {
   "cell_type": "code",
   "execution_count": 40,
   "id": "retained-vacation",
   "metadata": {},
   "outputs": [
    {
     "data": {
      "text/plain": [
       "True"
      ]
     },
     "execution_count": 40,
     "metadata": {},
     "output_type": "execute_result"
    }
   ],
   "source": [
    "G = nx.from_pandas_edgelist(\n",
    "    edgelist_df,\n",
    "    source=\"node1\",\n",
    "    target=\"node2\",\n",
    "    edge_attr=[\"weights\", \"costs\"],\n",
    "    create_using=nx.DiGraph(),\n",
    ")\n",
    "nx.is_directed(G)"
   ]
  },
  {
   "cell_type": "code",
   "execution_count": 44,
   "id": "younger-russell",
   "metadata": {},
   "outputs": [
    {
     "data": {
      "image/png": "[encoded data removed]",
      "text/plain": [
       "<Figure size 432x288 with 1 Axes>"
      ]
     },
     "metadata": {},
     "output_type": "display_data"
    }
   ],
   "source": [
    "weights = nx.get_edge_attributes(G, \"weights\")\n",
    "costs = nx.get_edge_attributes(G, \"costs\")\n",
    "edge_labels = {k: \"{} (${})\".format(weights[k], costs[k]) for k in weights}\n",
    "\n",
    "pos = nx.spring_layout(G)\n",
    "nx.draw_networkx_edge_labels(G, pos=pos, edge_labels=edge_labels)\n",
    "nx.draw(G, pos=pos, with_labels=True, node_color=\"lightblue\")"
   ]
  },
  {
   "cell_type": "markdown",
   "id": "municipal-maryland",
   "metadata": {},
   "source": [
    "We can use integer programming to find out the solution in this scenario \n",
    "\n",
    "**Decision variables**\n",
    "Integer variables $edge_{i,j}$ representing the amount of flow in $edge_{i, j}$\n",
    "\n",
    "**Constraints**\n",
    "Capacity restriction on every edge\n",
    "\n",
    "**Objective**\n",
    "The objective is to minimize the overall cost"
   ]
  },
  {
   "cell_type": "code",
   "execution_count": 45,
   "id": "synthetic-blake",
   "metadata": {},
   "outputs": [],
   "source": [
    "from ortools.sat.python import cp_model\n",
    "\n",
    "min_cost_flow_model = cp_model.CpModel()"
   ]
  },
  {
   "cell_type": "code",
   "execution_count": 46,
   "id": "foster-burton",
   "metadata": {},
   "outputs": [
    {
     "name": "stdout",
     "output_type": "stream",
     "text": [
      "Creating the integer variable edge_s_u representing the amount to flow in edge ('s', 'u')\n",
      "Creating the integer variable edge_s_v representing the amount to flow in edge ('s', 'v')\n",
      "Creating the integer variable edge_u_v representing the amount to flow in edge ('u', 'v')\n",
      "Creating the integer variable edge_u_t representing the amount to flow in edge ('u', 't')\n",
      "Creating the integer variable edge_v_t representing the amount to flow in edge ('v', 't')\n"
     ]
    }
   ],
   "source": [
    "# Creating one integer decision variables for each edge\n",
    "edge_int_vars = {}\n",
    "\n",
    "for edge in G.edges:\n",
    "    edge_int_vars[edge[0], edge[1]] = min_cost_flow_model.NewIntVar(\n",
    "        0, 100, \"edge_%s_%s\" % edge\n",
    "    )\n",
    "    print(\n",
    "        \"Creating the integer variable\",\n",
    "        edge_int_vars[edge[0], edge[1]],\n",
    "        \"representing the amount to flow in edge\",\n",
    "        edge,\n",
    "    )"
   ]
  },
  {
   "cell_type": "code",
   "execution_count": 47,
   "id": "dental-techno",
   "metadata": {},
   "outputs": [],
   "source": [
    "input_node = \"s\"\n",
    "output_node = \"t\"\n",
    "\n",
    "flow = 20  # Assuming a constant flow of 20 units"
   ]
  },
  {
   "cell_type": "code",
   "execution_count": 49,
   "id": "careful-event",
   "metadata": {},
   "outputs": [
    {
     "name": "stdout",
     "output_type": "stream",
     "text": [
      "Adding the constraint on the node s\n",
      "This node has 0 in-edges and 2 out-edges\n",
      "(-(edge_s_u + edge_s_v) + 0) == -20\n",
      "\n",
      "Adding the constraint on the node u\n",
      "This node has 1 in-edges and 2 out-edges\n",
      "(edge_s_u + -(edge_u_v + edge_u_t)) == 0\n",
      "\n",
      "Adding the constraint on the node v\n",
      "This node has 2 in-edges and 1 out-edges\n",
      "((edge_s_v + edge_u_v) + -edge_v_t) == 0\n",
      "\n",
      "Adding the constraint on the node t\n",
      "This node has 2 in-edges and 0 out-edges\n",
      "(edge_u_t + edge_v_t) == 20\n",
      "\n"
     ]
    }
   ],
   "source": [
    "# Adding constraints on the nodes\n",
    "for node in G.nodes:\n",
    "    in_edges = G.in_edges(node)\n",
    "    out_edges = G.out_edges(node)\n",
    "    print(\"Adding the constraint on the node\", node)\n",
    "    print(\n",
    "        \"This node has %i in-edges and %i out-edges\" % (len(in_edges), len(out_edges))\n",
    "    )\n",
    "    equation_at_this_edge = sum(\n",
    "        edge_int_vars[edge[0], edge[1]] for edge in in_edges\n",
    "    ) - sum(edge_int_vars[edge[0], edge[1]] for edge in out_edges)\n",
    "\n",
    "    if node == input_node:\n",
    "        min_cost_flow_model.Add(equation_at_this_edge == -flow)\n",
    "        print(equation_at_this_edge == -flow)\n",
    "    elif node == output_node:\n",
    "        min_cost_flow_model.Add(equation_at_this_edge == flow)\n",
    "        print(equation_at_this_edge == flow)\n",
    "    else:\n",
    "        min_cost_flow_model.Add(equation_at_this_edge == 0)\n",
    "        print(equation_at_this_edge == 0)\n",
    "    print()"
   ]
  },
  {
   "cell_type": "code",
   "execution_count": 50,
   "id": "suitable-edgar",
   "metadata": {},
   "outputs": [
    {
     "name": "stdout",
     "output_type": "stream",
     "text": [
      "Adding constraint on edge ('s', 'u')\n",
      "edge_s_u <= 20\n",
      "Adding constraint on edge ('s', 'v')\n",
      "edge_s_v <= 10\n",
      "Adding constraint on edge ('u', 'v')\n",
      "edge_u_v <= 30\n",
      "Adding constraint on edge ('u', 't')\n",
      "edge_u_t <= 10\n",
      "Adding constraint on edge ('v', 't')\n",
      "edge_v_t <= 20\n"
     ]
    }
   ],
   "source": [
    "# Adding constraints on the edges\n",
    "for edge in G.edges:\n",
    "    print(\"Adding constraint on edge\", edge)\n",
    "    max_flow_in_edge = G.get_edge_data(*edge)[\"weights\"]\n",
    "    min_cost_flow_model.Add(edge_int_vars[edge[0], edge[1]] <= max_flow_in_edge)\n",
    "    print(edge_int_vars[edge[0], edge[1]] <= max_flow_in_edge)"
   ]
  },
  {
   "cell_type": "code",
   "execution_count": 52,
   "id": "engaging-alabama",
   "metadata": {},
   "outputs": [
    {
     "name": "stdout",
     "output_type": "stream",
     "text": [
      "Objective is to optimize cost\n",
      "(((((30 * edge_s_u) + (20 * edge_s_v)) + (7 * edge_u_v)) + (10 * edge_u_t)) + (70 * edge_v_t))\n"
     ]
    }
   ],
   "source": [
    "# Factor to make everything including costs integer\n",
    "factor_int = 10\n",
    "\n",
    "# The objective is to maximise flow\n",
    "total_cost = sum(\n",
    "    int(G.get_edge_data(*edge)[\"costs\"] * factor_int) * edge_int_vars[edge[0], edge[1]]\n",
    "    for edge in G.edges\n",
    ")\n",
    "\n",
    "print(\"Objective is to optimize cost\")\n",
    "print(total_cost)\n",
    "min_cost_flow_model.Minimize(total_cost)"
   ]
  },
  {
   "cell_type": "code",
   "execution_count": 53,
   "id": "united-spanking",
   "metadata": {},
   "outputs": [
    {
     "name": "stdout",
     "output_type": "stream",
     "text": [
      "Solution 0, time = 0.01 s, objective = 1300\n"
     ]
    }
   ],
   "source": [
    "# Solving the problem\n",
    "solver = cp_model.CpSolver()\n",
    "solution_printer = cp_model.ObjectiveSolutionPrinter()\n",
    "status = solver.Solve(min_cost_flow_model, solution_printer)"
   ]
  },
  {
   "cell_type": "code",
   "execution_count": 54,
   "id": "exposed-addiction",
   "metadata": {},
   "outputs": [
    {
     "data": {
      "text/plain": [
       "True"
      ]
     },
     "execution_count": 54,
     "metadata": {},
     "output_type": "execute_result"
    }
   ],
   "source": [
    "status == cp_model.OPTIMAL"
   ]
  },
  {
   "cell_type": "code",
   "execution_count": 55,
   "id": "residential-interpretation",
   "metadata": {},
   "outputs": [
    {
     "data": {
      "text/plain": [
       "{('s', 'u'): 10, ('s', 'v'): 10, ('u', 'v'): 0, ('u', 't'): 10, ('v', 't'): 10}"
      ]
     },
     "execution_count": 55,
     "metadata": {},
     "output_type": "execute_result"
    }
   ],
   "source": [
    "result_edges = {}\n",
    "for edge in G.edges:\n",
    "    result_edges[edge[0], edge[1]] = solver.Value(edge_int_vars[edge[0], edge[1]])\n",
    "result_edges"
   ]
  },
  {
   "cell_type": "code",
   "execution_count": 56,
   "id": "invalid-crazy",
   "metadata": {},
   "outputs": [
    {
     "data": {
      "image/png": "[encoded data removed]",
      "text/plain": [
       "<Figure size 432x288 with 1 Axes>"
      ]
     },
     "metadata": {},
     "output_type": "display_data"
    }
   ],
   "source": [
    "pos = nx.spring_layout(G)\n",
    "nx.draw_networkx_edge_labels(G, pos=pos, edge_labels=result_edges)\n",
    "nx.draw(G, pos=pos, with_labels=True, node_color=\"lightblue\", node_size=2_000)"
   ]
  }
 ],
 "metadata": {
  "kernelspec": {
   "display_name": "Python 3 (ipykernel)",
   "language": "python",
   "name": "python3"
  },
  "language_info": {
   "codemirror_mode": {
    "name": "ipython",
    "version": 3
   },
   "file_extension": ".py",
   "mimetype": "text/x-python",
   "name": "python",
   "nbconvert_exporter": "python",
   "pygments_lexer": "ipython3",
   "version": "3.9.16"
  }
 },
 "nbformat": 4,
 "nbformat_minor": 5
}
